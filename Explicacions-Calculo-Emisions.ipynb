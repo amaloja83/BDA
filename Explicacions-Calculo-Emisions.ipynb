{
 "cells": [
  {
   "cell_type": "markdown",
   "metadata": {},
   "source": [
    "## Cálculo de emisiones"
   ]
  },
  {
   "cell_type": "markdown",
   "metadata": {},
   "source": [
    "Cada medio de transporte genera emisiones, el ejercicio toma las variables kms_diarios, dias_laborais_semanais,  semanas y la emision_x_km, a partir de esos datos se realiza un cálculo matemático para saber cual fue la cantidad de emisiones obtenidas."
   ]
  },
  {
   "cell_type": "code",
   "execution_count": null,
   "metadata": {},
   "outputs": [],
   "source": [
    "#!/usr/bin/env python\n",
    "\n",
    "# Cálculo de emisións\n",
    "\n",
    "# Variables\n",
    "KMS_DIARIOS = 0\n",
    "DIAS_LABORAIS_SEMANAIS = 0\n",
    "SEMANAS = 0\n",
    "\n",
    "EMISION_X_KM = 121\n",
    "\n",
    "cantidade_de_emisions = KMS_DIARIOS * DIAS_LABORAIS_SEMANAIS * SEMANAS * EMISION_X_KM\n",
    "print('O teu consumo é:', cantidade_de_emisions, 'gC02')"
   ]
  },
  {
   "cell_type": "markdown",
   "metadata": {},
   "source": [
    "Cálculo de emisións anuais dunha persoa que viaxa en coche 100kms diarios, 5 días á semana durante 48 semanas do ano."
   ]
  },
  {
   "cell_type": "code",
   "execution_count": 1,
   "metadata": {},
   "outputs": [
    {
     "name": "stdout",
     "output_type": "stream",
     "text": [
      "O teu consumo é: 2323200 gC02\n"
     ]
    }
   ],
   "source": [
    "KMS_DIARIOS = 100\n",
    "DIAS_LABORAIS_SEMANAIS = 4\n",
    "SEMANAS = 48\n",
    "\n",
    "EMISION_X_KM = 121\n",
    "\n",
    "cantidade_de_emisions = KMS_DIARIOS * DIAS_LABORAIS_SEMANAIS * SEMANAS * EMISION_X_KM\n",
    "print('O teu consumo é:', cantidade_de_emisions, 'gC02')"
   ]
  },
  {
   "cell_type": "markdown",
   "metadata": {},
   "source": [
    "Cálculo de emisións anuais dunha persoa que viaxa en moto 20kms diarios, 3 días á semana, durante 40 semanas do ano."
   ]
  },
  {
   "cell_type": "code",
   "execution_count": null,
   "metadata": {},
   "outputs": [],
   "source": [
    "KMS_DIARIOS = 20\n",
    "DIAS_LABORAIS_SEMANAIS = 3\n",
    "SEMANAS = 40\n",
    "\n",
    "# Cada medio de transporte ten o seu índice de emisións medio (gramos por km)\n",
    "\n",
    "EMISION_X_KM = 121\n",
    "\n",
    "cantidade_de_emisions = KMS_DIARIOS * DIAS_LABORAIS_SEMANAIS * SEMANAS * EMISION_X_KM\n",
    "print('O teu consumo é:', cantidade_de_emisions, 'gC02')"
   ]
  },
  {
   "cell_type": "markdown",
   "metadata": {},
   "source": [
    "Cálculo de emisións anuais dunha persoa que viaxa en moto 2kms diarios, 5 días á semana, durante 24 semanas do ano."
   ]
  },
  {
   "cell_type": "code",
   "execution_count": null,
   "metadata": {},
   "outputs": [],
   "source": [
    "KMS_DIARIOS = 2\n",
    "DIAS_LABORAIS_SEMANAIS = 5\n",
    "SEMANAS = 24\n",
    "\n",
    "EMISION_X_KM = 121\n",
    "\n",
    "cantidade_de_emisions = KMS_DIARIOS * DIAS_LABORAIS_SEMANAIS * SEMANAS * EMISION_X_KM\n",
    "print('O teu consumo é:', cantidade_de_emisions, 'gC02')"
   ]
  },
  {
   "cell_type": "markdown",
   "metadata": {},
   "source": [
    "EN MOTO -> Cálculo de emisións anuais dunha persoa que viaxa en moto 10kms diarios, 5 días á semana, durante 24 semanas do ano"
   ]
  },
  {
   "cell_type": "code",
   "execution_count": 1,
   "metadata": {},
   "outputs": [
    {
     "name": "stdout",
     "output_type": "stream",
     "text": [
      "O teu consumo é: 145200 gC02\n"
     ]
    }
   ],
   "source": [
    "KMS_DIARIOS = 10\n",
    "DIAS_LABORAIS_SEMANAIS = 5\n",
    "SEMANAS = 24\n",
    "\n",
    "# Cada medio de transporte ten o seu índice de emisións medio (gramos por km)\n",
    "# https://www.movilidad-idae.es/destacados/emisiones-de-co2-por-modos-de-transporte-motorizado\n",
    "EMISION_X_KM = 121\n",
    "\n",
    "cantidade_de_emisions = KMS_DIARIOS * DIAS_LABORAIS_SEMANAIS * SEMANAS * EMISION_X_KM\n",
    "print('O teu consumo é:', cantidade_de_emisions, 'gC02')"
   ]
  },
  {
   "cell_type": "markdown",
   "metadata": {},
   "source": [
    "EN COCHE -> Cálculo de emisións anuais dunha persoa que viaxa en moto 20kms diarios, 5 días á semana, durante 24 semanas do ano"
   ]
  },
  {
   "cell_type": "code",
   "execution_count": 2,
   "metadata": {},
   "outputs": [
    {
     "name": "stdout",
     "output_type": "stream",
     "text": [
      "O teu consumo é: 290400 gC02\n"
     ]
    }
   ],
   "source": [
    "KMS_DIARIOS = 20\n",
    "DIAS_LABORAIS_SEMANAIS = 5\n",
    "SEMANAS = 24\n",
    "\n",
    "# Cada medio de transporte ten o seu índice de emisións medio (gramos por km)\n",
    "# https://www.movilidad-idae.es/destacados/emisiones-de-co2-por-modos-de-transporte-motorizado\n",
    "EMISION_X_KM = 121\n",
    "\n",
    "cantidade_de_emisions = KMS_DIARIOS * DIAS_LABORAIS_SEMANAIS * SEMANAS * EMISION_X_KM\n",
    "print('O teu consumo é:', cantidade_de_emisions, 'gC02')"
   ]
  },
  {
   "cell_type": "markdown",
   "metadata": {},
   "source": [
    "Realizando una comparativa al usar moto se ahorra la mitad de lo que se gasta en coche"
   ]
  }
 ],
 "metadata": {
  "kernelspec": {
   "display_name": "Python 3",
   "language": "python",
   "name": "python3"
  },
  "language_info": {
   "codemirror_mode": {
    "name": "ipython",
    "version": 3
   },
   "file_extension": ".py",
   "mimetype": "text/x-python",
   "name": "python",
   "nbconvert_exporter": "python",
   "pygments_lexer": "ipython3",
   "version": "3.13.0"
  }
 },
 "nbformat": 4,
 "nbformat_minor": 2
}
